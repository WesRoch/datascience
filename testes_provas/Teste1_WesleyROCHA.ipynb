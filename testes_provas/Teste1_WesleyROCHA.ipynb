{
 "cells": [
  {
   "cell_type": "markdown",
   "metadata": {
    "id": "8kih40y9pksj"
   },
   "source": [
    "# Teste 1\n",
    "#### Valor : Menção extra"
   ]
  },
  {
   "cell_type": "markdown",
   "metadata": {
    "id": "nSqOopEApksl"
   },
   "source": [
    "### Faça os exercícios considerando a seguinte lista:"
   ]
  },
  {
   "cell_type": "code",
   "execution_count": 3,
   "metadata": {
    "id": "8ZA2_XTzpksm"
   },
   "outputs": [],
   "source": [
    "lista = [2, 29, 8, 98, 10, 3, -4, 9, 10]"
   ]
  },
  {
   "cell_type": "markdown",
   "metadata": {
    "id": "bGv0VS7tpksr"
   },
   "source": [
    "#### Usando as funções apresentadas, faça de maneira dinâmica os seguintes exercícios:\n",
    "\n",
    "1) Imprima a soma do maior e o menor elemento da lista:"
   ]
  },
  {
   "cell_type": "code",
   "execution_count": 18,
   "metadata": {
    "colab": {
     "base_uri": "https://localhost:8080/"
    },
    "id": "jLlwCCF-pkss",
    "outputId": "536b80fb-d68e-4c84-fa24-531e5b480608"
   },
   "outputs": [
    {
     "name": "stdout",
     "output_type": "stream",
     "text": [
      "soma: 94\n"
     ]
    }
   ],
   "source": [
    "x = min(lista)\n",
    "y = max(lista)\n",
    "\n",
    "print('soma:', x + y)"
   ]
  },
  {
   "cell_type": "markdown",
   "metadata": {
    "id": "PuArl5-0pksw"
   },
   "source": [
    "2) Imprima o número de ocorrências do maior elemento da lista:"
   ]
  },
  {
   "cell_type": "code",
   "execution_count": 28,
   "metadata": {
    "colab": {
     "base_uri": "https://localhost:8080/"
    },
    "id": "4JNGQDOzpksx",
    "outputId": "69db6865-e8ab-49f0-8475-530b4d9de8e9"
   },
   "outputs": [
    {
     "name": "stdout",
     "output_type": "stream",
     "text": [
      "ocorrencias:  1\n"
     ]
    }
   ],
   "source": [
    "xvezes = lista.count(max(lista))\n",
    "print ('ocorrencias: ', xvezes)"
   ]
  },
  {
   "cell_type": "markdown",
   "metadata": {
    "id": "tv1uvGmmpks1"
   },
   "source": [
    "3) Imprima o elemento no meio da lista:"
   ]
  },
  {
   "cell_type": "code",
   "execution_count": 34,
   "metadata": {
    "colab": {
     "base_uri": "https://localhost:8080/"
    },
    "id": "813Zv_NRpks2",
    "outputId": "1a32ea0f-c29a-4f71-9321-19bfd5a93d6f"
   },
   "outputs": [
    {
     "name": "stdout",
     "output_type": "stream",
     "text": [
      "10\n"
     ]
    }
   ],
   "source": [
    "print (lista[len(lista)//2])"
   ]
  },
  {
   "cell_type": "markdown",
   "metadata": {
    "id": "8PBchreRpks6"
   },
   "source": [
    "4) Imprima o maior elemento da lista elevado ao quadrado:"
   ]
  },
  {
   "cell_type": "code",
   "execution_count": 37,
   "metadata": {
    "colab": {
     "base_uri": "https://localhost:8080/"
    },
    "id": "fVonma4Ypks6",
    "outputId": "d35147d6-b8ab-400b-f496-3c49d075afe7"
   },
   "outputs": [
    {
     "name": "stdout",
     "output_type": "stream",
     "text": [
      "9604\n"
     ]
    }
   ],
   "source": [
    "x = max(lista) **2\n",
    "print (x)"
   ]
  },
  {
   "cell_type": "markdown",
   "metadata": {
    "id": "P8viaLzmpks-"
   },
   "source": [
    "5) Crie uma lista com todos os números pares de 0 até 1000."
   ]
  },
  {
   "cell_type": "code",
   "execution_count": null,
   "metadata": {
    "id": "shBICn7ipks-"
   },
   "outputs": [],
   "source": [
    "start, end = 0,1000\n",
    "\n",
    "for num in range (start, end + 1 ):\n",
    "\n",
    "    if num % 2 == 0:\n",
    "        print (num, end = \" \")\n",
    "\n"
   ]
  },
  {
   "cell_type": "markdown",
   "metadata": {
    "id": "i4B06benpktC"
   },
   "source": [
    "6) Crie uma lista com todos os números ímpares de 0 até 10.000."
   ]
  },
  {
   "cell_type": "code",
   "execution_count": null,
   "metadata": {
    "id": "Y_jdoNpxpktD"
   },
   "outputs": [],
   "source": [
    "start, end = 0,10000\n",
    "\n",
    "for num in range (start, end + 1 ):\n",
    "\n",
    "    if num % 2 != 0:\n",
    "        print (num, end = \" \")"
   ]
  },
  {
   "cell_type": "markdown",
   "metadata": {
    "id": "XFAJxyGopktG"
   },
   "source": [
    "7) Imprima o valor da média de todos os elementos da lista."
   ]
  },
  {
   "cell_type": "code",
   "execution_count": 61,
   "metadata": {
    "colab": {
     "base_uri": "https://localhost:8080/"
    },
    "id": "ygtDxX0FpktG",
    "outputId": "166274ae-d621-47ac-da8a-6cd84ee8d18a"
   },
   "outputs": [
    {
     "name": "stdout",
     "output_type": "stream",
     "text": [
      "media:  18\n"
     ]
    }
   ],
   "source": [
    "media = sum(lista) // len(lista)\n",
    "print ('media: ', media)"
   ]
  },
  {
   "cell_type": "markdown",
   "metadata": {
    "id": "VpLxhb4JpktK"
   },
   "source": [
    "8) Crie 3 tuplas para representar as informações de alunos em uma disciplina, cada tupla deverá conter o nome do aluno seguido de suas duas notas."
   ]
  },
  {
   "cell_type": "code",
   "execution_count": 117,
   "metadata": {
    "id": "2aYufowapktK"
   },
   "outputs": [],
   "source": [
    "aluno1 = ('Lucas', 70, 50)\n",
    "aluno2 = ('Pedro', 60, 80)\n",
    "aluno3 = ('Clara', 100, 50)"
   ]
  },
  {
   "cell_type": "markdown",
   "metadata": {
    "id": "OkuOWXPGpktP"
   },
   "source": [
    "9) Imprima a soma das notas de cada aluno do exercício 8, use as variáveis criadas por você:"
   ]
  },
  {
   "cell_type": "code",
   "execution_count": 114,
   "metadata": {
    "colab": {
     "base_uri": "https://localhost:8080/"
    },
    "id": "6f87MTkFKf2Y",
    "outputId": "2b8e9378-b292-463e-fef1-fe37af723449"
   },
   "outputs": [
    {
     "name": "stdout",
     "output_type": "stream",
     "text": [
      "soma das notas dos aluno:  410\n"
     ]
    }
   ],
   "source": [
    "x = aluno1[1] + aluno1[2] \n",
    "y = aluno2[1] + aluno2[2] \n",
    "z = aluno3[1] + aluno3[2] \n",
    "print ('soma das notas dos aluno: ', x + y + z)"
   ]
  },
  {
   "cell_type": "markdown",
   "metadata": {
    "id": "dL5CJjvZpktT"
   },
   "source": [
    "10) Imprima o nome e a maior nota de cada aluno do exercício 8, use as variáveis criadas por você:"
   ]
  },
  {
   "cell_type": "code",
   "execution_count": 120,
   "metadata": {},
   "outputs": [
    {
     "name": "stderr",
     "output_type": "stream",
     "text": [
      "\n",
      "KeyboardInterrupt\n",
      "\n"
     ]
    }
   ],
   "source": [
    "from operator import itemgetter\n",
    "max(aluno3, key=itemgetter(1))"
   ]
  },
  {
   "cell_type": "markdown",
   "metadata": {},
   "source": [
    "11) Construa dicionários para armazenar as notas de 5 alunos. Imprima o valor da maior nota."
   ]
  },
  {
   "cell_type": "code",
   "execution_count": 116,
   "metadata": {},
   "outputs": [
    {
     "data": {
      "text/plain": [
       "100"
      ]
     },
     "execution_count": 116,
     "metadata": {},
     "output_type": "execute_result"
    }
   ],
   "source": [
    "meu_dicionario = {'Lucas' :50,'Joao' :60,'Clara' :70,'Pedro' :80,'Maria' :100}\n",
    "max(meu_dicionario.values())"
   ]
  },
  {
   "cell_type": "markdown",
   "metadata": {},
   "source": [
    "12) Em uma competição de salto em distância cada atleta tem direito a cinco saltos. O resultado do atleta será determinado pela média dos cinco valores restantes. Você deve fazer um programa que receba o nome e as cinco distâncias alcançadas pelo atleta em seus saltos e depois informe o nome, os saltos e a média dos saltos. O programa deve ser encerrado quando não for informado o nome do atleta. A saída do programa deve ser conforme o exemplo abaixo:\n",
    "\n",
    "Atleta: Rodrigo\n",
    " \n",
    "Primeiro Salto: 6.5 m\n",
    "\n",
    "Segundo Salto: 6.1 m\n",
    "\n",
    "Terceiro Salto: 6.2 m\n",
    "\n",
    "Quarto Salto: 5.4 m\n",
    "\n",
    "Quinto Salto: 5.3 m\n",
    "\n",
    "Resultado final:\n",
    "\n",
    "Atleta: Rodrigo\n",
    "\n",
    "Saltos: 6.5 - 6.1 - 6.2 - 5.4 - 5.3\n",
    "\n",
    "Média dos saltos: 5.9 m"
   ]
  },
  {
   "cell_type": "code",
   "execution_count": 135,
   "metadata": {},
   "outputs": [
    {
     "name": "stdout",
     "output_type": "stream",
     "text": [
      "\n",
      "Melhor salto: 50.0 m\n",
      "Pior salto: 10.0 m\n",
      "Média dos demais saltos: 30.0 m\n",
      "\n",
      "\n",
      "\n",
      "Resultado final\n",
      "Wesley: 30.0 m\n"
     ]
    }
   ],
   "source": [
    "atletas = []\n",
    "while True:\n",
    "    nome = input(\n",
    "        \"Digite o nome do atleta: \"\n",
    "    )\n",
    "    if nome == \"\":\n",
    "        break\n",
    "    atleta = {\n",
    "        \"nome\": nome,\n",
    "        \"saltos\": [],\n",
    "        \"media\": 0,\n",
    "        \"melhor_salto\": 0,\n",
    "        \"pior_salto\": 0,\n",
    "    }\n",
    "    for i in range(5):\n",
    "        atleta.get(\"saltos\").append(\n",
    "            float(input(f\"{i+1}º salto: \"))\n",
    "        )\n",
    "    atleta.get(\"saltos\").sort()\n",
    "    atleta[\"pior_salto\"] = atleta.get(\"saltos\").pop(0)\n",
    "    atleta[\"melhor_salto\"] = atleta.get(\"saltos\").pop()\n",
    "    atleta[\"media\"] = sum(atleta.get(\"saltos\")) / 3\n",
    "    print(\n",
    "        f\"\\nMelhor salto: {atleta.get('melhor_salto'):.1f} m\"\n",
    "        f\"\\nPior salto: {atleta.get('pior_salto'):.1f} m\"\n",
    "        f\"\\nMédia dos demais saltos: {atleta.get('media'):.1f} m\\n\"\n",
    "    )\n",
    "    atletas.append(atleta)\n",
    "\n",
    "print(\"\\n\\nResultado final\")\n",
    "for atleta in atletas:\n",
    "    print(f\"{atleta.get('nome')}: {atleta.get('media'):.1f} m\")"
   ]
  },
  {
   "cell_type": "markdown",
   "metadata": {},
   "source": [
    "13) Qual é a diferença entre o **while** e **for**?"
   ]
  },
  {
   "cell_type": "code",
   "execution_count": null,
   "metadata": {},
   "outputs": [],
   "source": [
    "O for é utilizado para iterar uma sequência de dados como uma lista, tupla, dicionario, executando um conjunto de instruções em cada item. \n",
    "O while é uma estrutura de repetição utilizada quando se quer que determinado bloco de código seja executado enquanto determinada condição for satisfeita."
   ]
  },
  {
   "cell_type": "markdown",
   "metadata": {},
   "source": [
    "14) Faça um Programa que peça a idade e a altura de 5 pessoas, armazene cada informação no seu respectivo vetor. Imprima a idade e a altura na ordem inversa a ordem lida."
   ]
  },
  {
   "cell_type": "code",
   "execution_count": null,
   "metadata": {},
   "outputs": [],
   "source": [
    "idades = []\n",
    "alturas = []\n",
    "\n",
    "for valor in range(0, 5):\n",
    "    idades.append(int(input(\"Digite a idade: \")))\n",
    "    alturas.append(float(input(\"Digite a altura: \")))\n",
    "\n",
    "print(\"Idades na ordem inversa: \")\n",
    "for valor in range(0, 5):\n",
    "    print(idades[len(idades)-1-valor])\n",
    "\n",
    "print(\"Alturas na ordem inversa: \")\n",
    "for valor in range(0, 5):\n",
    "    print(alturas[len(alturas)-1-valor])"
   ]
  },
  {
   "cell_type": "markdown",
   "metadata": {},
   "source": [
    "15) Faça um Programa que leia dois vetores com 10 elementos cada. Gere um terceiro vetor de 20 elementos, cujos valores deverão ser compostos pelos elementos intercalados dos dois outros vetores."
   ]
  },
  {
   "cell_type": "code",
   "execution_count": 137,
   "metadata": {},
   "outputs": [
    {
     "name": "stdout",
     "output_type": "stream",
     "text": [
      "[10, 1, 15, 1, 20, 1, 30, 1, 1, 1, 1, 1, 1, 1, 1, 1, 1, 1, 1, 1]\n"
     ]
    }
   ],
   "source": [
    "vetor1 = []\n",
    "vetor2 = []\n",
    "vetor3 = []\n",
    "\n",
    "for elemento in range(0, 10):\n",
    "    vetor1.append(int(input(\"Digite um elemento: \")))\n",
    "    \n",
    "for elemento in range(0, 10):\n",
    "    vetor2.append(int(input(\"Digite um elemento: \")))\n",
    "    \n",
    "for elemento in range(0, 10):\n",
    "    vetor3.append(vetor1[elemento])\n",
    "    vetor3.append(vetor2[elemento])\n",
    "\n",
    "print(vetor3)"
   ]
  },
  {
   "cell_type": "markdown",
   "metadata": {},
   "source": [
    "16) Faça um programa que receba a temperatura média de cada mês do ano e armazene-as em uma lista. Após isto, calcule a média anual das temperaturas e mostre todas as temperaturas acima da média anual, e em que mês elas ocorreram (mostrar o mês por extenso: 1 – Janeiro, 2 – Fevereiro,...)."
   ]
  },
  {
   "cell_type": "code",
   "execution_count": null,
   "metadata": {},
   "outputs": [],
   "source": [
    "meses = [\"Janeiro\", \"Fevereiro\", \"Março\", \"Abril\", \"Maio\", \"Junho\", \"Julho\", \"Agosto\", \"Setembro\", \"Outubro\", \"Novembro\", \"Dezembro\"]\n",
    "temperatura = []\n",
    "\n",
    "for m in range(0, len(meses)):\n",
    "    temperatura.append(float(input(\"Digite a temperatura do mês de \" + meses[m] + \": \")))\n",
    "\n",
    "mediaAnual = sum(temperatura)/len(temperatura)\n",
    "\n",
    "for m in range(0, len(temperatura)):\n",
    "    if temperatura[m] > mediaAnual:\n",
    "        print (str(m+1) + \" - \" + meses[m])"
   ]
  },
  {
   "cell_type": "markdown",
   "metadata": {},
   "source": [
    "17) Faça uma função que recebe um valor n e que imprima:\n",
    "  \n",
    "    1\n",
    "  \n",
    "    2   2\n",
    "  \n",
    "    3   3   3\n",
    "  \n",
    "    .....\n",
    "  \n",
    "    n   n   n   n   n   n  ... n"
   ]
  },
  {
   "cell_type": "code",
   "execution_count": 143,
   "metadata": {},
   "outputs": [
    {
     "name": "stdout",
     "output_type": "stream",
     "text": [
      "1\n",
      "22\n",
      "333\n"
     ]
    }
   ],
   "source": [
    "def infi(n) :\n",
    "    for i in range (n):\n",
    "        i += 1\n",
    "        print(str(i) * i)\n",
    "\n",
    "n = int (input('Digite um numero: '))\n",
    "infi(n)"
   ]
  },
  {
   "cell_type": "markdown",
   "metadata": {},
   "source": [
    "18) Faça uma função que recebe um valor n e que imprima:\n",
    "  \n",
    "  1\n",
    "  \n",
    "  1   2\n",
    "  \n",
    "  1   2   3\n",
    "  \n",
    "  .....\n",
    "  \n",
    "  1   2   3   ...  n"
   ]
  },
  {
   "cell_type": "code",
   "execution_count": 152,
   "metadata": {},
   "outputs": [
    {
     "ename": "TypeError",
     "evalue": "can only concatenate str (not \"int\") to str",
     "output_type": "error",
     "traceback": [
      "\u001b[1;31m---------------------------------------------------------------------------\u001b[0m",
      "\u001b[1;31mTypeError\u001b[0m                                 Traceback (most recent call last)",
      "\u001b[1;32mc:\\Users\\wesle\\Desktop\\UniCeub\\6 Semestre\\Ciencia de Dados\\Teste 1 .ipynb Cell 39'\u001b[0m in \u001b[0;36m<cell line: 7>\u001b[1;34m()\u001b[0m\n\u001b[0;32m      <a href='vscode-notebook-cell:/c%3A/Users/wesle/Desktop/UniCeub/6%20Semestre/Ciencia%20de%20Dados/Teste%201%20.ipynb#ch0000038?line=3'>4</a>\u001b[0m         \u001b[39mprint\u001b[39m(\u001b[39mstr\u001b[39m(i) \u001b[39m+\u001b[39m n)\n\u001b[0;32m      <a href='vscode-notebook-cell:/c%3A/Users/wesle/Desktop/UniCeub/6%20Semestre/Ciencia%20de%20Dados/Teste%201%20.ipynb#ch0000038?line=5'>6</a>\u001b[0m n \u001b[39m=\u001b[39m \u001b[39mint\u001b[39m (\u001b[39minput\u001b[39m(\u001b[39m'\u001b[39m\u001b[39mDigite um numero: \u001b[39m\u001b[39m'\u001b[39m))\n\u001b[1;32m----> <a href='vscode-notebook-cell:/c%3A/Users/wesle/Desktop/UniCeub/6%20Semestre/Ciencia%20de%20Dados/Teste%201%20.ipynb#ch0000038?line=6'>7</a>\u001b[0m infi(n)\n",
      "\u001b[1;32mc:\\Users\\wesle\\Desktop\\UniCeub\\6 Semestre\\Ciencia de Dados\\Teste 1 .ipynb Cell 39'\u001b[0m in \u001b[0;36minfi\u001b[1;34m(n)\u001b[0m\n\u001b[0;32m      <a href='vscode-notebook-cell:/c%3A/Users/wesle/Desktop/UniCeub/6%20Semestre/Ciencia%20de%20Dados/Teste%201%20.ipynb#ch0000038?line=1'>2</a>\u001b[0m \u001b[39mfor\u001b[39;00m i \u001b[39min\u001b[39;00m \u001b[39mrange\u001b[39m (n):\n\u001b[0;32m      <a href='vscode-notebook-cell:/c%3A/Users/wesle/Desktop/UniCeub/6%20Semestre/Ciencia%20de%20Dados/Teste%201%20.ipynb#ch0000038?line=2'>3</a>\u001b[0m     i \u001b[39m+\u001b[39m\u001b[39m=\u001b[39m \u001b[39m1\u001b[39m\n\u001b[1;32m----> <a href='vscode-notebook-cell:/c%3A/Users/wesle/Desktop/UniCeub/6%20Semestre/Ciencia%20de%20Dados/Teste%201%20.ipynb#ch0000038?line=3'>4</a>\u001b[0m     \u001b[39mprint\u001b[39m(\u001b[39mstr\u001b[39;49m(i) \u001b[39m+\u001b[39;49m n)\n",
      "\u001b[1;31mTypeError\u001b[0m: can only concatenate str (not \"int\") to str"
     ]
    }
   ],
   "source": [
    "def infi(n) :\n",
    "    for i in range (n):\n",
    "        i += 1\n",
    "        print(str(i) + n)\n",
    "        \n",
    "n = int (input('Digite um numero: '))\n",
    "infi(n)"
   ]
  },
  {
   "cell_type": "markdown",
   "metadata": {},
   "source": [
    "19) Faça uma função que retorne o reverso de um número inteiro passado por parâmetro. Por exemplo: 127 -> 721."
   ]
  },
  {
   "cell_type": "code",
   "execution_count": 161,
   "metadata": {},
   "outputs": [],
   "source": [
    "def reverso(n):\n",
    " inverte = str(n)\n",
    " print(inverte[::-1])\n",
    "\n",
    " n = int(input('Digite um numero: '))\n",
    " reverso(n)"
   ]
  },
  {
   "cell_type": "markdown",
   "metadata": {},
   "source": [
    "20) Faça uma função que receba dois vetores com 10 elementos cada. Sua função deverá retornar um terceiro vetor de 20 elementos, cujos valores deverão ser compostos pelos elementos intercalados dos dois outros vetores."
   ]
  },
  {
   "cell_type": "code",
   "execution_count": null,
   "metadata": {},
   "outputs": [],
   "source": [
    "vetor1 = []\n",
    "vetor2 = []\n",
    "vetor3 = []\n",
    "\n",
    "for elemento in range(0, 10):\n",
    "    vetor1.append(int(input(\"Digite um elemento: \")))\n",
    "    \n",
    "for elemento in range(0, 10):\n",
    "    vetor2.append(int(input(\"Digite um elemento: \")))\n",
    "    \n",
    "for elemento in range(0, 10):\n",
    "    vetor3.append(vetor1[elemento])\n",
    "    vetor3.append(vetor2[elemento])\n",
    "\n",
    "print(vetor3)"
   ]
  },
  {
   "cell_type": "markdown",
   "metadata": {},
   "source": [
    "21) Faça uma função que receba uma string e retorne a quantidade de consoantes que existem nela."
   ]
  },
  {
   "cell_type": "code",
   "execution_count": 164,
   "metadata": {},
   "outputs": [
    {
     "name": "stdout",
     "output_type": "stream",
     "text": [
      "A palavra 'ronaldo' tem 4 consoantes.\n"
     ]
    }
   ],
   "source": [
    "palavra = input(\"Digite uma palavra: \")\n",
    "contador = 0\n",
    "\n",
    "for letra in palavra:\n",
    "    if letra in \"bcdfghjklmnpqrstvxwyzBCDFGHJKLMNPQRSTVXWYZ\":\n",
    "        contador += 1\n",
    "\n",
    "print(\"A palavra '{}' tem {} consoantes.\".format(palavra, contador))"
   ]
  },
  {
   "cell_type": "markdown",
   "metadata": {},
   "source": [
    "22) Altere o exercício 21 para que o retorno seja um dicionário, onde a chaves são as consoantes e os valores a quantidade de vezes que a consoante aparece na string"
   ]
  },
  {
   "cell_type": "code",
   "execution_count": null,
   "metadata": {},
   "outputs": [],
   "source": []
  },
  {
   "cell_type": "markdown",
   "metadata": {
    "id": "ZFvXTstUxeWI"
   },
   "source": [
    "#### **Boa sorte!**"
   ]
  }
 ],
 "metadata": {
  "colab": {
   "collapsed_sections": [],
   "name": "Aula 01 - Atividade Prática - <Seu nome>.ipynb",
   "provenance": []
  },
  "kernelspec": {
   "display_name": "Python 3 (ipykernel)",
   "language": "python",
   "name": "python3"
  },
  "language_info": {
   "codemirror_mode": {
    "name": "ipython",
    "version": 3
   },
   "file_extension": ".py",
   "mimetype": "text/x-python",
   "name": "python",
   "nbconvert_exporter": "python",
   "pygments_lexer": "ipython3",
   "version": "3.9.7"
  }
 },
 "nbformat": 4,
 "nbformat_minor": 1
}
